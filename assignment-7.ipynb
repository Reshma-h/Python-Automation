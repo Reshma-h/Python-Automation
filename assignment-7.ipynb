{
 "cells": [
  {
   "cell_type": "code",
   "execution_count": 114,
   "id": "4e61e87a",
   "metadata": {},
   "outputs": [],
   "source": [
    "from selenium import webdriver"
   ]
  },
  {
   "cell_type": "code",
   "execution_count": 115,
   "id": "b7e56b87",
   "metadata": {},
   "outputs": [],
   "source": [
    "dr = webdriver.Chrome()"
   ]
  },
  {
   "cell_type": "code",
   "execution_count": 116,
   "id": "e4e9cbe9",
   "metadata": {},
   "outputs": [],
   "source": [
    "dr.maximize_window()"
   ]
  },
  {
   "cell_type": "code",
   "execution_count": 117,
   "id": "e8ac2f3a",
   "metadata": {},
   "outputs": [],
   "source": [
    "dr.get('https://www.youtube.com/')"
   ]
  },
  {
   "cell_type": "code",
   "execution_count": 118,
   "id": "469eddf8",
   "metadata": {},
   "outputs": [],
   "source": [
    "search = dr.find_element_by_xpath(\"//input[@id='search']\")"
   ]
  },
  {
   "cell_type": "code",
   "execution_count": 119,
   "id": "adcdbf37",
   "metadata": {},
   "outputs": [],
   "source": [
    "search.send_keys('Data analysis')"
   ]
  },
  {
   "cell_type": "code",
   "execution_count": 120,
   "id": "150b63a2",
   "metadata": {},
   "outputs": [],
   "source": [
    "button = dr.find_element_by_xpath(\"//button[@id='search-icon-legacy']\")"
   ]
  },
  {
   "cell_type": "code",
   "execution_count": 121,
   "id": "79af4217",
   "metadata": {},
   "outputs": [],
   "source": [
    "button.click()"
   ]
  },
  {
   "cell_type": "code",
   "execution_count": 122,
   "id": "8aa2f01f",
   "metadata": {},
   "outputs": [],
   "source": [
    "import time"
   ]
  },
  {
   "cell_type": "code",
   "execution_count": 123,
   "id": "4029d5b4",
   "metadata": {},
   "outputs": [],
   "source": [
    "list = ['Turtorials','data science','sql','excel','power bi','python','numpy','pandas','matplotlib','strings','Oops','sets','dictionary','tupples']"
   ]
  },
  {
   "cell_type": "code",
   "execution_count": null,
   "id": "c92c9ae4",
   "metadata": {},
   "outputs": [],
   "source": [
    "# for playing all the videos in the list \n",
    "\n",
    "for i in list:\n",
    "    dr.get('https://youtube.com/')\n",
    "    time.sleep(2)\n",
    "    search = dr.find_element_by_xpath(\"//input[@id='search']\")\n",
    "    time.sleep(2)\n",
    "    search.send_keys(i)\n",
    "    button = dr.find_element_by_xpath(\"//button[@id='search-icon-legacy']\")\n",
    "    button.click()\n",
    "    time.sleep(2)\n",
    "    "
   ]
  },
  {
   "cell_type": "code",
   "execution_count": null,
   "id": "fe5b475d",
   "metadata": {},
   "outputs": [],
   "source": [
    "# for getting the videos in the list including the information in text\n",
    "\n",
    "for i in list:\n",
    "    dr.get('https://youtube.com/')\n",
    "    time.sleep(2)\n",
    "    search = dr.find_element_by_xpath(\"//input[@id='search']\")\n",
    "    time.sleep(2)\n",
    "    search.send_keys(i)\n",
    "    button = dr.find_element_by_xpath(\"//button[@id='search-icon-legacy']\")\n",
    "    button.click()\n",
    "    time.sleep(2)\n",
    "     raw = dr.find_element_by_xpath(\"(//div[@id='contents'])[10]\")\n",
    "    print(raw.text)\n",
    "    time.sleep(2)"
   ]
  },
  {
   "cell_type": "code",
   "execution_count": null,
   "id": "caad6313",
   "metadata": {},
   "outputs": [],
   "source": []
  }
 ],
 "metadata": {
  "kernelspec": {
   "display_name": "Python 3 (ipykernel)",
   "language": "python",
   "name": "python3"
  },
  "language_info": {
   "codemirror_mode": {
    "name": "ipython",
    "version": 3
   },
   "file_extension": ".py",
   "mimetype": "text/x-python",
   "name": "python",
   "nbconvert_exporter": "python",
   "pygments_lexer": "ipython3",
   "version": "3.11.1"
  }
 },
 "nbformat": 4,
 "nbformat_minor": 5
}
